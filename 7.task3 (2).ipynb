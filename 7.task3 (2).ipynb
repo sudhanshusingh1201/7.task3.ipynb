{
 "cells": [
  {
   "cell_type": "markdown",
   "id": "f4b65739-be1b-4729-9e4d-aa9c9dd01b1a",
   "metadata": {},
   "source": [
    "<h1>Problem 1 - Print the following pattern. Write a program to use for loop to print the following reverse number pattern.</h1>"
   ]
  },
  {
   "cell_type": "code",
   "execution_count": 13,
   "id": "8fd6f803-d70a-4fba-a969-d743256d460b",
   "metadata": {},
   "outputs": [],
   "source": [
    "def countdown_pattern(n):\n",
    "    for i in range(n):\n",
    "        # print leading spaces\n",
    "        print(\"  \" * i, end=\"\")\n",
    "        # print countdown from n - i to 1\n",
    "        for j in range(n - i, 0, -1):\n",
    "            print(j, end=\" \")\n",
    "        print()"
   ]
  },
  {
   "cell_type": "code",
   "execution_count": 24,
   "id": "c2614a7f-9293-45e8-afc9-4792d23886cd",
   "metadata": {},
   "outputs": [
    {
     "name": "stdin",
     "output_type": "stream",
     "text": [
      "please provide a num:  7\n"
     ]
    },
    {
     "name": "stdout",
     "output_type": "stream",
     "text": [
      "*\n",
      "**\n",
      "***\n",
      "****\n",
      "*****\n",
      "******\n",
      "*******\n",
      "******\n",
      "*****\n",
      "****\n",
      "***\n",
      "**\n",
      "*\n"
     ]
    }
   ],
   "source": [
    "n = int(input(\"please provide a num: \"))\n",
    "\n",
    "# Increasing part\n",
    "for i in range(1, n + 1):\n",
    "    print(\"*\" * i)\n",
    "\n",
    "# Decreasing part\n",
    "for i in range(n - 1, 0, -1):\n",
    "    print(\"*\" * i)\n",
    "    "
   ]
  },
  {
   "cell_type": "code",
   "execution_count": 27,
   "id": "7ad84eeb-9980-4735-bb3f-c7490a2aec13",
   "metadata": {},
   "outputs": [
    {
     "name": "stdin",
     "output_type": "stream",
     "text": [
      "please provide a num:  6\n"
     ]
    },
    {
     "name": "stdout",
     "output_type": "stream",
     "text": [
      "  * \n",
      " * * * \n",
      "* * * * * \n"
     ]
    }
   ],
   "source": [
    "n = int(input(\"please provide a num: \"))\n",
    "def centered_pyramid(rows):\n",
    "    for i in range(1, rows + 1):\n",
    "        # Print spaces\n",
    "        print(\" \" * (rows - i), end=\"\")\n",
    "        # Print stars separated by spaces, count = 2*i - 1 (odd number)\n",
    "        print(\"* \" * (2 * i - 1))\n",
    "\n",
    "centered_pyramid(3)\n"
   ]
  },
  {
   "cell_type": "code",
   "execution_count": 29,
   "id": "7e9e224d-1c83-4b68-87e5-06579d46714f",
   "metadata": {},
   "outputs": [
    {
     "name": "stdin",
     "output_type": "stream",
     "text": [
      "Enter number of rows:  6\n"
     ]
    },
    {
     "name": "stdout",
     "output_type": "stream",
     "text": [
      "1 \n",
      "2 1 \n",
      "3 2 1 \n",
      "4 3 2 1 \n",
      "5 4 3 2 1 \n",
      "6 5 4 3 2 1 \n"
     ]
    }
   ],
   "source": [
    "n = int(input(\"Enter number of rows: \"))\n",
    "for i in range(1, n + 1):\n",
    "    for j in range(i, 0, -1):\n",
    "        print(j, end=\" \")\n",
    "    print()\n"
   ]
  },
  {
   "cell_type": "code",
   "execution_count": 30,
   "id": "5b29eaaa-7284-43ad-b873-96001a52beac",
   "metadata": {},
   "outputs": [
    {
     "name": "stdin",
     "output_type": "stream",
     "text": [
      "Enter n:  6\n"
     ]
    },
    {
     "name": "stdout",
     "output_type": "stream",
     "text": [
      "Sum of first 6 natural numbers is: 21\n"
     ]
    }
   ],
   "source": [
    "n = int(input(\"Enter n: \"))\n",
    "total = n * (n + 1) // 2\n",
    "print(\"Sum of first\", n, \"natural numbers is:\", total)\n"
   ]
  },
  {
   "cell_type": "code",
   "execution_count": 31,
   "id": "c387e66d-fe25-443b-930a-430ff52832ec",
   "metadata": {},
   "outputs": [
    {
     "name": "stdin",
     "output_type": "stream",
     "text": [
      "Enter the number of terms:  7\n"
     ]
    },
    {
     "name": "stdout",
     "output_type": "stream",
     "text": [
      "2 + 22 + 222 + 2222 + 22222 + 222222 + 2222222 = 2469134\n"
     ]
    }
   ],
   "source": [
    "n = int(input(\"Enter the number of terms: \"))\n",
    "\n",
    "total_sum = 0\n",
    "current_num = 0\n",
    "\n",
    "series_terms = []\n",
    "\n",
    "for i in range(n):\n",
    "    # Build the number with repeated '2's\n",
    "    current_num = current_num * 10 + 2\n",
    "    series_terms.append(str(current_num))\n",
    "    total_sum += current_num\n",
    "\n",
    "# Print the series like 2 + 22 + 222 + ...\n",
    "print(\" + \".join(series_terms), \"=\", total_sum)\n"
   ]
  },
  {
   "cell_type": "code",
   "execution_count": 32,
   "id": "2fc688a3-5558-4508-aa2f-77fcaa9a00c3",
   "metadata": {},
   "outputs": [
    {
     "name": "stdout",
     "output_type": "stream",
     "text": [
      "1 2 3 4\n",
      "1 2 4 3\n",
      "1 3 2 4\n",
      "1 3 4 2\n",
      "1 4 2 3\n",
      "1 4 3 2\n",
      "2 1 3 4\n",
      "2 1 4 3\n",
      "2 3 1 4\n",
      "2 3 4 1\n",
      "2 4 1 3\n",
      "2 4 3 1\n",
      "3 1 2 4\n",
      "3 1 4 2\n",
      "3 2 1 4\n",
      "3 2 4 1\n",
      "3 4 1 2\n",
      "3 4 2 1\n",
      "4 1 2 3\n",
      "4 1 3 2\n",
      "4 2 1 3\n",
      "4 2 3 1\n",
      "4 3 1 2\n",
      "4 3 2 1\n"
     ]
    }
   ],
   "source": [
    "from itertools import permutations\n",
    "\n",
    "numbers = [1, 2, 3, 4]\n",
    "\n",
    "for perm in permutations(numbers):\n",
    "    print(*perm)\n"
   ]
  },
  {
   "cell_type": "code",
   "execution_count": 8,
   "id": "f7708658-0b2e-4b83-a6a7-123af704372e",
   "metadata": {},
   "outputs": [
    {
     "name": "stdin",
     "output_type": "stream",
     "text": [
      "pleaae entere a decimal number 12\n"
     ]
    },
    {
     "name": "stdout",
     "output_type": "stream",
     "text": [
      "Binary equivalent: 1100\n"
     ]
    }
   ],
   "source": [
    "decimal_number=int(input(\"pleaae entere a decimal number\"))\n",
    "binary_equivalent=bin(decimal_number)\n",
    "print(\"Binary equivalent:\", binary_equivalent[2:])"
   ]
  },
  {
   "cell_type": "code",
   "execution_count": 13,
   "id": "50d5d45c-8ca6-4ed1-8e67-cbfeebfa5f18",
   "metadata": {},
   "outputs": [
    {
     "name": "stdin",
     "output_type": "stream",
     "text": [
      "Enter first number:  56\n",
      "Enter second number:  89\n"
     ]
    },
    {
     "name": "stdout",
     "output_type": "stream",
     "text": [
      "HCF of 56 and 89 is: 1\n",
      "LCM of 56 and 89 is: 4984\n"
     ]
    }
   ],
   "source": [
    "def compute_hcf(x, y):\n",
    "    # Euclidean Algorithm for HCF\n",
    "    while y:\n",
    "        x, y = y, x % y\n",
    "    return x\n",
    "\n",
    "def compute_lcm(x, y):\n",
    "    hcf = compute_hcf(x, y)\n",
    "    return (x * y) // hcf\n",
    "\n",
    "# Input from user\n",
    "num1 = int(input(\"Enter first number: \"))\n",
    "num2 = int(input(\"Enter second number: \"))\n",
    "\n",
    "# Calculate HCF and LCM\n",
    "hcf = compute_hcf(num1, num2)\n",
    "lcm = compute_lcm(num1, num2)\n",
    "\n",
    "# Output results\n",
    "print(\"HCF of\", num1, \"and\", num2, \"is:\", hcf)\n",
    "print(\"LCM of\", num1, \"and\", num2, \"is:\", lcm)\n"
   ]
  },
  {
   "cell_type": "code",
   "execution_count": 16,
   "id": "7a20a987-6d8d-4693-b859-1c36baff488f",
   "metadata": {},
   "outputs": [
    {
     "name": "stdin",
     "output_type": "stream",
     "text": [
      "Enter a phrase:  Data SAcience Mentorship\n"
     ]
    },
    {
     "name": "stdout",
     "output_type": "stream",
     "text": [
      "Short form: DSM\n"
     ]
    }
   ],
   "source": [
    "# Input string from user\n",
    "input_string = input(\"Enter a phrase: \")\n",
    "\n",
    "# Split the string into words\n",
    "words = input_string.split()\n",
    "\n",
    "# Get the first letter of each word and capitalize\n",
    "short_form = ''.join(word[0].upper() for word in words)\n",
    "\n",
    "# Output the short form\n",
    "print(\"Short form:\", short_form)\n"
   ]
  },
  {
   "cell_type": "code",
   "execution_count": 19,
   "id": "e3712dea-51a4-41fa-9640-fa758994a725",
   "metadata": {},
   "outputs": [
    {
     "name": "stdin",
     "output_type": "stream",
     "text": [
      "enter a phrase: Data Science\n"
     ]
    },
    {
     "ename": "NameError",
     "evalue": "name 'o' is not defined",
     "output_type": "error",
     "traceback": [
      "\u001b[1;31m---------------------------------------------------------------------------\u001b[0m",
      "\u001b[1;31mNameError\u001b[0m                                 Traceback (most recent call last)",
      "Cell \u001b[1;32mIn[19], line 3\u001b[0m\n\u001b[0;32m      1\u001b[0m input_string\u001b[38;5;241m=\u001b[39m\u001b[38;5;28minput\u001b[39m(\u001b[38;5;124m\"\u001b[39m\u001b[38;5;124menter a phrase:\u001b[39m\u001b[38;5;124m\"\u001b[39m)\n\u001b[0;32m      2\u001b[0m words\u001b[38;5;241m=\u001b[39minput_string\u001b[38;5;241m.\u001b[39msplit()\n\u001b[1;32m----> 3\u001b[0m short_form\u001b[38;5;241m=\u001b[39m\u001b[38;5;124;43m\"\u001b[39;49m\u001b[38;5;124;43m\"\u001b[39;49m\u001b[38;5;241;43m.\u001b[39;49m\u001b[43mjoin\u001b[49m\u001b[43m(\u001b[49m\u001b[43mword\u001b[49m\u001b[43m[\u001b[49m\u001b[43mo\u001b[49m\u001b[43m]\u001b[49m\u001b[38;5;241;43m.\u001b[39;49m\u001b[43mupper\u001b[49m\u001b[43m(\u001b[49m\u001b[43m)\u001b[49m\u001b[38;5;28;43;01mfor\u001b[39;49;00m\u001b[43m \u001b[49m\u001b[43mword\u001b[49m\u001b[43m \u001b[49m\u001b[38;5;129;43;01min\u001b[39;49;00m\u001b[43m \u001b[49m\u001b[43mwords\u001b[49m\u001b[43m)\u001b[49m\n\u001b[0;32m      4\u001b[0m \u001b[38;5;28mprint\u001b[39m(\u001b[38;5;124m\"\u001b[39m\u001b[38;5;124mshort form:\u001b[39m\u001b[38;5;124m\"\u001b[39m,short_form)\n",
      "Cell \u001b[1;32mIn[19], line 3\u001b[0m, in \u001b[0;36m<genexpr>\u001b[1;34m(.0)\u001b[0m\n\u001b[0;32m      1\u001b[0m input_string\u001b[38;5;241m=\u001b[39m\u001b[38;5;28minput\u001b[39m(\u001b[38;5;124m\"\u001b[39m\u001b[38;5;124menter a phrase:\u001b[39m\u001b[38;5;124m\"\u001b[39m)\n\u001b[0;32m      2\u001b[0m words\u001b[38;5;241m=\u001b[39minput_string\u001b[38;5;241m.\u001b[39msplit()\n\u001b[1;32m----> 3\u001b[0m short_form\u001b[38;5;241m=\u001b[39m\u001b[38;5;124m\"\u001b[39m\u001b[38;5;124m\"\u001b[39m\u001b[38;5;241m.\u001b[39mjoin(word[\u001b[43mo\u001b[49m]\u001b[38;5;241m.\u001b[39mupper()\u001b[38;5;28;01mfor\u001b[39;00m word \u001b[38;5;129;01min\u001b[39;00m words)\n\u001b[0;32m      4\u001b[0m \u001b[38;5;28mprint\u001b[39m(\u001b[38;5;124m\"\u001b[39m\u001b[38;5;124mshort form:\u001b[39m\u001b[38;5;124m\"\u001b[39m,short_form)\n",
      "\u001b[1;31mNameError\u001b[0m: name 'o' is not defined"
     ]
    }
   ],
   "source": [
    "input_string=input(\"enter a phrase:\")\n",
    "words=input_string.split()\n",
    "short_form=\"\".join(word[o].upper()for word in words)\n",
    "print(\"short form:\",short_form)"
   ]
  },
  {
   "cell_type": "code",
   "execution_count": 17,
   "id": "3360398f-6b44-4f92-afc2-b330828226f9",
   "metadata": {},
   "outputs": [
    {
     "name": "stdin",
     "output_type": "stream",
     "text": [
      "enter the first string: sudhanhshu\n",
      "enter the second string: singh\n"
     ]
    },
    {
     "name": "stdout",
     "output_type": "stream",
     "text": [
      "output: sudhasinghnhshu\n"
     ]
    }
   ],
   "source": [
    "str1=input(\"enter the first string:\")\n",
    "str2=input(\"enter the second string:\")\n",
    "mid_index=len(str1)//2\n",
    "new_string=str1[:mid_index]+str2+str1[mid_index:]\n",
    "print(\"output:\",new_string)"
   ]
  },
  {
   "cell_type": "code",
   "execution_count": 25,
   "id": "2cd69d01-a1ef-4c2f-afcf-594947df01f7",
   "metadata": {},
   "outputs": [
    {
     "name": "stdout",
     "output_type": "stream",
     "text": [
      "rearranged string: pytiveNA\n"
     ]
    }
   ],
   "source": [
    "str1=\"pyNAtive\"\n",
    "lowercase_chars=''.join([ch for ch in str1 if ch.islower()])\n",
    "uppercase_chars=''.join([ch for ch in str1 if ch.isupper()])\n",
    "result=lowercase_chars + uppercase_chars\n",
    "print(\"rearranged string:\",result)"
   ]
  },
  {
   "cell_type": "code",
   "execution_count": 27,
   "id": "53d96c9b-22c6-4a41-b955-5ed5a301a97c",
   "metadata": {},
   "outputs": [
    {
     "name": "stdin",
     "output_type": "stream",
     "text": [
      "enter a alphanumeric string: sudhanshu_singh_rajput\n"
     ]
    },
    {
     "name": "stdout",
     "output_type": "stream",
     "text": [
      "sum of digits: 0\n",
      "average of digits: 0\n"
     ]
    }
   ],
   "source": [
    "input_str=input(\"enter a alphanumeric string:\")\n",
    "digits =[int(ch) for ch in input_str if ch.isdigit()]\n",
    "total=sum(digits)\n",
    "counts= len(digits)\n",
    "if count>0:\n",
    "    average=total /count\n",
    "else:\n",
    "    average=0\n",
    "print(\"sum of digits:\",total)\n",
    "print(\"average of digits:\",average)"
   ]
  },
  {
   "cell_type": "code",
   "execution_count": 30,
   "id": "e284a9f0-a39e-499c-af3b-9cfca62afa0a",
   "metadata": {},
   "outputs": [
    {
     "name": "stdout",
     "output_type": "stream",
     "text": [
      "output: 2 4 1 0\n"
     ]
    }
   ],
   "source": [
    "str1=\"i am 24 year old and 10 monts old\"\n",
    "only_digits=\" \".join([ch for ch in str1 if ch.isdigit()])\n",
    "print(\"output:\",only_digits)"
   ]
  },
  {
   "cell_type": "code",
   "execution_count": 31,
   "id": "00277dd6-7c39-4469-bdbd-76592bcf012a",
   "metadata": {},
   "outputs": [
    {
     "name": "stdin",
     "output_type": "stream",
     "text": [
      "Enter a string:  sudhanshu\n"
     ]
    },
    {
     "name": "stdout",
     "output_type": "stream",
     "text": [
      "The string is not symmetrical.\n"
     ]
    }
   ],
   "source": [
    "# Input string\n",
    "str1 = input(\"Enter a string: \")\n",
    "\n",
    "# Get the middle index\n",
    "mid = len(str1) // 2\n",
    "\n",
    "# If string has even length\n",
    "if len(str1) % 2 == 0:\n",
    "    first_half = str1[:mid]\n",
    "    second_half = str1[mid:]\n",
    "else:\n",
    "    # Ignore the middle character if odd-length\n",
    "    first_half = str1[:mid]\n",
    "    second_half = str1[mid+1:]\n",
    "\n",
    "# Compare halves\n",
    "if first_half == second_half:\n",
    "    print(\"The string is symmetrical.\")\n",
    "else:\n",
    "    print(\"The string is not symmetrical.\")\n"
   ]
  },
  {
   "cell_type": "code",
   "execution_count": 36,
   "id": "4ef6e692-8ce2-4c71-acd4-a3576fbdc249",
   "metadata": {},
   "outputs": [
    {
     "name": "stdin",
     "output_type": "stream",
     "text": [
      "enter a string: sudhanshusinghrajputsudhanshusinghrajput\n"
     ]
    },
    {
     "name": "stdout",
     "output_type": "stream",
     "text": [
      "The string is symmetrical.\n"
     ]
    }
   ],
   "source": [
    "str1=input(\"enter a string:\")\n",
    "mid=len(str1)//2\n",
    "if len(str1)%2 ==0:\n",
    "    first_half=str1[:mid]\n",
    "    second_half=str1[mid:]\n",
    "else:\n",
    "    first_half=str1[:mid]\n",
    "    second_half=str1[mid+1:]\n",
    "if first_half == second_half:\n",
    "    print(\"The string is symmetrical.\")\n",
    "else:\n",
    "    print(\"The string is not symmetrical.\")\n"
   ]
  },
  {
   "cell_type": "code",
   "execution_count": 1,
   "id": "b123269f-b31e-4afe-a11b-f88e983657e0",
   "metadata": {},
   "outputs": [
    {
     "name": "stdout",
     "output_type": "stream",
     "text": [
      "code practice quiz geeks\n"
     ]
    }
   ],
   "source": [
    "def reverse_words(s):\n",
    "    return ' '.join(s.split()[::-1])\n",
    "\n",
    "# Test\n",
    "input_str = \"geeks quiz practice code\"\n",
    "output_str = reverse_words(input_str)\n",
    "print(output_str)  # Output: code practice quiz geeks\n"
   ]
  },
  {
   "cell_type": "code",
   "execution_count": 2,
   "id": "def44f81-f036-4205-acef-d0baad6aa531",
   "metadata": {},
   "outputs": [
    {
     "name": "stdout",
     "output_type": "stream",
     "text": [
      "['apple', 'fruits']\n"
     ]
    }
   ],
   "source": [
    "from collections import Counter\n",
    "\n",
    "def uncommon_from_sentences(A, B):\n",
    "    words_A = A.split()\n",
    "    words_B = B.split()\n",
    "    \n",
    "    # Count words from both A and B\n",
    "    count = Counter(words_A + words_B)\n",
    "    \n",
    "    # Return the words that occurred only once\n",
    "    return [word for word in count if count[word] == 1]\n",
    "\n",
    "# Test\n",
    "A = \"apple banana mango\"\n",
    "B = \"banana fruits mango\"\n",
    "print(uncommon_from_sentences(A, B))  # Output: ['apple', 'fruits']\n"
   ]
  },
  {
   "cell_type": "code",
   "execution_count": 3,
   "id": "5076613d-169e-4abd-8ff6-5a956d79a744",
   "metadata": {},
   "outputs": [
    {
     "name": "stdout",
     "output_type": "stream",
     "text": [
      "Location of the word is 7.\n"
     ]
    }
   ],
   "source": [
    "def find_word_location(sentence, target_word):\n",
    "    words = sentence.split()\n",
    "    position = 1  # Start from 1, not 0\n",
    "\n",
    "    for word in words:\n",
    "        if word == target_word:\n",
    "            return f\"Location of the word is {position}.\"\n",
    "        position += 1\n",
    "\n",
    "    return \"Word not found in the sentence.\"\n",
    "\n",
    "# Test\n",
    "sentence = \"We can learn data science through campusx mentorship program.\"\n",
    "word = \"campusx\"\n",
    "print(find_word_location(sentence, word))  # Output: Location of the word is 7.\n"
   ]
  },
  {
   "cell_type": "code",
   "execution_count": 4,
   "id": "71787168-9540-46f6-95af-a1e3c237f201",
   "metadata": {},
   "outputs": [
    {
     "name": "stdin",
     "output_type": "stream",
     "text": [
      "Enter a string:  sudhanshu\n"
     ]
    },
    {
     "name": "stdout",
     "output_type": "stream",
     "text": [
      "String after removing duplicates: sudhan\n"
     ]
    }
   ],
   "source": [
    "def remove_duplicates(s):\n",
    "    result = \"\"\n",
    "    seen = set()\n",
    "\n",
    "    for char in s:\n",
    "        if char not in seen:\n",
    "            seen.add(char)\n",
    "            result += char\n",
    "    return result\n",
    "\n",
    "# User input\n",
    "user_input = input(\"Enter a string: \")\n",
    "print(\"String after removing duplicates:\", remove_duplicates(user_input))\n"
   ]
  },
  {
   "cell_type": "code",
   "execution_count": null,
   "id": "37937a71-edaa-43f6-820f-6aa15f9bd542",
   "metadata": {},
   "outputs": [],
   "source": []
  }
 ],
 "metadata": {
  "kernelspec": {
   "display_name": "Python 3 (ipykernel)",
   "language": "python",
   "name": "python3"
  },
  "language_info": {
   "codemirror_mode": {
    "name": "ipython",
    "version": 3
   },
   "file_extension": ".py",
   "mimetype": "text/x-python",
   "name": "python",
   "nbconvert_exporter": "python",
   "pygments_lexer": "ipython3",
   "version": "3.13.1"
  }
 },
 "nbformat": 4,
 "nbformat_minor": 5
}
